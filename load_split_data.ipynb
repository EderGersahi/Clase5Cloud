{
 "cells": [
  {
   "cell_type": "markdown",
   "id": "3a06c5b7",
   "metadata": {},
   "source": [
    "## Load Dataset MNIST"
   ]
  },
  {
   "cell_type": "code",
   "execution_count": 8,
   "id": "72851afe",
   "metadata": {},
   "outputs": [],
   "source": [
    "import tensorflow as tf\n",
    "import numpy as np\n",
    "import os\n",
    "\n",
    "train, test = tf.keras.datasets.mnist.load_data()\n",
    "\n",
    "x_train, x_test = np.expand_dims(train[0] / 255.0, -1), np.expand_dims(test[0] / 255.0, -1)\n",
    "y_train, y_test = train[1], test[1]"
   ]
  },
  {
   "cell_type": "code",
   "execution_count": 14,
   "id": "0c101a44",
   "metadata": {},
   "outputs": [
    {
     "name": "stdout",
     "output_type": "stream",
     "text": [
      "(60000, 28, 28, 1)\n",
      "(10000, 28, 28, 1)\n",
      "(60000,)\n",
      "(10000,)\n"
     ]
    }
   ],
   "source": [
    "print(x_train.shape)\n",
    "print(x_test.shape)\n",
    "print(y_train.shape)\n",
    "print(y_test.shape)"
   ]
  },
  {
   "cell_type": "markdown",
   "id": "e8a38920",
   "metadata": {},
   "source": [
    "## Split MNIST Dataset in 5 parts"
   ]
  },
  {
   "cell_type": "code",
   "execution_count": null,
   "id": "5580bfaa",
   "metadata": {},
   "outputs": [],
   "source": [
    "\n",
    "\n",
    "from sklearn.model_selection import StratifiedKFold\n",
    "\n",
    "n_team_members=5\n",
    "\n",
    "skf = StratifiedKFold(n_splits=n_team_members, shuffle=True, random_state=42)\n",
    "\n",
    "folds = skf.split(x_train, y_train)\n",
    "\n"
   ]
  },
  {
   "cell_type": "code",
   "execution_count": 10,
   "id": "184bdfb2",
   "metadata": {},
   "outputs": [],
   "source": [
    "\n",
    "names=['eder','sofia','pame','lesli','fer']\n",
    "for (i, (train_idx, val_idx)), name in zip(enumerate(folds), names):\n",
    "    np.savez(f'mnist_fold_{name}.npz',\n",
    "             x_train_fold=x_train[train_idx],\n",
    "             y_train_fold=y_train[train_idx],\n",
    "             x_val_fold=x_train[val_idx],\n",
    "             y_val_fold=y_train[val_idx])"
   ]
  },
  {
   "cell_type": "code",
   "execution_count": null,
   "id": "fd248208",
   "metadata": {},
   "outputs": [],
   "source": []
  },
  {
   "cell_type": "code",
   "execution_count": 15,
   "id": "60b18608",
   "metadata": {},
   "outputs": [
    {
     "name": "stdout",
     "output_type": "stream",
     "text": [
      "--- Fold eder ---\n",
      "x_train_fold shape: (48000, 28, 28, 1)\n",
      "y_train_fold shape: (48000,)\n",
      "x_val_fold shape: (12000, 28, 28, 1)\n",
      "y_val_fold shape: (12000,)\n",
      "\n",
      "--- Fold sofia ---\n",
      "x_train_fold shape: (48000, 28, 28, 1)\n",
      "y_train_fold shape: (48000,)\n",
      "x_val_fold shape: (12000, 28, 28, 1)\n",
      "y_val_fold shape: (12000,)\n",
      "\n",
      "--- Fold pame ---\n",
      "x_train_fold shape: (48000, 28, 28, 1)\n",
      "y_train_fold shape: (48000,)\n",
      "x_val_fold shape: (12000, 28, 28, 1)\n",
      "y_val_fold shape: (12000,)\n",
      "\n",
      "--- Fold lesli ---\n",
      "x_train_fold shape: (48000, 28, 28, 1)\n",
      "y_train_fold shape: (48000,)\n",
      "x_val_fold shape: (12000, 28, 28, 1)\n",
      "y_val_fold shape: (12000,)\n",
      "\n",
      "--- Fold fer ---\n",
      "x_train_fold shape: (48000, 28, 28, 1)\n",
      "y_train_fold shape: (48000,)\n",
      "x_val_fold shape: (12000, 28, 28, 1)\n",
      "y_val_fold shape: (12000,)\n",
      "\n"
     ]
    }
   ],
   "source": [
    "names = ['eder', 'sofia', 'pame', 'lesli', 'fer']\n",
    "\n",
    "for name in names:\n",
    "    data = np.load(f'mnist_fold_{name}.npz')\n",
    "    print(f\"--- Fold {name} ---\")\n",
    "    print(\"x_train_fold shape:\", data['x_train_fold'].shape)\n",
    "    print(\"y_train_fold shape:\", data['y_train_fold'].shape)\n",
    "    print(\"x_val_fold shape:\", data['x_val_fold'].shape)\n",
    "    print(\"y_val_fold shape:\", data['y_val_fold'].shape)\n",
    "    print()"
   ]
  }
 ],
 "metadata": {
  "kernelspec": {
   "display_name": "base",
   "language": "python",
   "name": "python3"
  },
  "language_info": {
   "codemirror_mode": {
    "name": "ipython",
    "version": 3
   },
   "file_extension": ".py",
   "mimetype": "text/x-python",
   "name": "python",
   "nbconvert_exporter": "python",
   "pygments_lexer": "ipython3",
   "version": "3.11.4"
  }
 },
 "nbformat": 4,
 "nbformat_minor": 5
}
