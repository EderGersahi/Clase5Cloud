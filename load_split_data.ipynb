{
 "cells": [
  {
   "cell_type": "markdown",
   "id": "3a06c5b7",
   "metadata": {},
   "source": [
    "## Load Dataset MNIST"
   ]
  },
  {
   "cell_type": "code",
   "execution_count": 1,
   "id": "72851afe",
   "metadata": {},
   "outputs": [],
   "source": [
    "import tensorflow as tf\n",
    "import numpy as np\n",
    "import os\n",
    "\n",
    "train, test = tf.keras.datasets.mnist.load_data()\n",
    "\n",
    "x_train, x_test = np.expand_dims(train[0] / 255.0, -1), np.expand_dims(test[0] / 255.0, -1)\n",
    "y_train, y_test = train[1], test[1]"
   ]
  },
  {
   "cell_type": "code",
   "execution_count": 2,
   "id": "0c101a44",
   "metadata": {},
   "outputs": [
    {
     "name": "stdout",
     "output_type": "stream",
     "text": [
      "(60000, 28, 28, 1)\n",
      "(10000, 28, 28, 1)\n",
      "(60000,)\n",
      "(10000,)\n"
     ]
    }
   ],
   "source": [
    "print(x_train.shape)\n",
    "print(x_test.shape)\n",
    "print(y_train.shape)\n",
    "print(y_test.shape)"
   ]
  },
  {
   "cell_type": "markdown",
   "id": "e8a38920",
   "metadata": {},
   "source": [
    "## Split MNIST Dataset in 5 parts"
   ]
  },
  {
   "cell_type": "code",
   "execution_count": 3,
   "id": "5580bfaa",
   "metadata": {},
   "outputs": [],
   "source": [
    "\n",
    "\n",
    "from sklearn.model_selection import StratifiedKFold\n",
    "\n",
    "n_team_members=5\n",
    "\n",
    "skf = StratifiedKFold(n_splits=n_team_members, shuffle=True, random_state=42)\n",
    "\n",
    "#folds = skf.split(x_train, y_train)\n",
    "\n",
    "folds = list(skf.split(x_train, y_train)) "
   ]
  },
  {
   "cell_type": "code",
   "execution_count": 5,
   "id": "844e47c7",
   "metadata": {},
   "outputs": [
    {
     "name": "stdout",
     "output_type": "stream",
     "text": [
      "--- eder ---\n",
      "x_train_local: (12000, 28, 28, 1)\n",
      "y_train_local: (12000,)\n",
      "Distribución de clases: [1184 1348 1191 1227 1169 1085 1183 1253 1170 1190]\n",
      "x_test: (10000, 28, 28, 1)\n",
      "y_test: (10000,)\n",
      "\n",
      "--- sofia ---\n",
      "x_train_local: (12000, 28, 28, 1)\n",
      "y_train_local: (12000,)\n",
      "Distribución de clases: [1185 1349 1191 1226 1168 1084 1184 1253 1170 1190]\n",
      "x_test: (10000, 28, 28, 1)\n",
      "y_test: (10000,)\n",
      "\n",
      "--- pame ---\n",
      "x_train_local: (12000, 28, 28, 1)\n",
      "y_train_local: (12000,)\n",
      "Distribución de clases: [1185 1349 1192 1226 1168 1084 1184 1253 1170 1189]\n",
      "x_test: (10000, 28, 28, 1)\n",
      "y_test: (10000,)\n",
      "\n",
      "--- lesli ---\n",
      "x_train_local: (12000, 28, 28, 1)\n",
      "y_train_local: (12000,)\n",
      "Distribución de clases: [1185 1348 1192 1226 1168 1084 1184 1253 1170 1190]\n",
      "x_test: (10000, 28, 28, 1)\n",
      "y_test: (10000,)\n",
      "\n",
      "--- fer ---\n",
      "x_train_local: (12000, 28, 28, 1)\n",
      "y_train_local: (12000,)\n",
      "Distribución de clases: [1184 1348 1192 1226 1169 1084 1183 1253 1171 1190]\n",
      "x_test: (10000, 28, 28, 1)\n",
      "y_test: (10000,)\n",
      "\n"
     ]
    }
   ],
   "source": [
    "\n",
    "names = ['eder', 'sofia', 'pame', 'lesli', 'fer']\n",
    "\n",
    "local_data = [(x_train[val_idx], y_train[val_idx]) for _, val_idx in folds]\n",
    "\n",
    "# Guardar en archivos .npz\n",
    "for (x_local, y_local), name in zip(local_data, names):\n",
    "    np.savez(f'mnist_{name}.npz',\n",
    "             x_train_local=x_local,\n",
    "             y_train_local=y_local,\n",
    "             x_test=x_test,\n",
    "             y_test=y_test)\n",
    "    \n",
    "    # Verificar shapes y balance de clases\n",
    "    print(f\"--- {name} ---\")\n",
    "    print(\"x_train_local:\", x_local.shape)\n",
    "    print(\"y_train_local:\", y_local.shape)\n",
    "    print(\"Distribución de clases:\", np.bincount(y_local))\n",
    "    print(\"x_test:\", x_test.shape)\n",
    "    print(\"y_test:\", y_test.shape)\n",
    "    print()\n"
   ]
  }
 ],
 "metadata": {
  "kernelspec": {
   "display_name": "base",
   "language": "python",
   "name": "python3"
  },
  "language_info": {
   "codemirror_mode": {
    "name": "ipython",
    "version": 3
   },
   "file_extension": ".py",
   "mimetype": "text/x-python",
   "name": "python",
   "nbconvert_exporter": "python",
   "pygments_lexer": "ipython3",
   "version": "3.11.4"
  }
 },
 "nbformat": 4,
 "nbformat_minor": 5
}
